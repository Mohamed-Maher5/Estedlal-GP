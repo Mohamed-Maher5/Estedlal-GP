{
 "cells": [
  {
   "cell_type": "code",
   "execution_count": 27,
   "metadata": {},
   "outputs": [],
   "source": [
    "import pandas as pd\n",
    "import re\n",
    "import matplotlib.pyplot as plt\n",
    "from pyarabic.araby import strip_tashkeel\n"
   ]
  },
  {
   "cell_type": "code",
   "execution_count": 12,
   "metadata": {},
   "outputs": [
    {
     "name": "stderr",
     "output_type": "stream",
     "text": [
      "c:\\Users\\DELL-MCC\\anaconda3\\envs\\rag\\lib\\site-packages\\openpyxl\\worksheet\\header_footer.py:48: UserWarning: Cannot parse header or footer so it will be ignored\n",
      "  warn(\"\"\"Cannot parse header or footer so it will be ignored\"\"\")\n"
     ]
    },
    {
     "data": {
      "text/html": [
       "<div>\n",
       "<style scoped>\n",
       "    .dataframe tbody tr th:only-of-type {\n",
       "        vertical-align: middle;\n",
       "    }\n",
       "\n",
       "    .dataframe tbody tr th {\n",
       "        vertical-align: top;\n",
       "    }\n",
       "\n",
       "    .dataframe thead th {\n",
       "        text-align: right;\n",
       "    }\n",
       "</style>\n",
       "<table border=\"1\" class=\"dataframe\">\n",
       "  <thead>\n",
       "    <tr style=\"text-align: right;\">\n",
       "      <th></th>\n",
       "      <th>question</th>\n",
       "      <th>context</th>\n",
       "      <th>answers</th>\n",
       "    </tr>\n",
       "  </thead>\n",
       "  <tbody>\n",
       "    <tr>\n",
       "      <th>0</th>\n",
       "      <td>كيف نعبد الله؟</td>\n",
       "      <td>مَن عمِلَ عمَلاً لَيْسَ عَلَيهِ أمْرُنا فَهُو...</td>\n",
       "      <td>مَن عمِلَ عمَلاً لَيْسَ عَلَيهِ أمْرُنا فَهُو...</td>\n",
       "    </tr>\n",
       "    <tr>\n",
       "      <th>1</th>\n",
       "      <td>هل نعبد الله خوفا وطمعا؟</td>\n",
       "      <td>أسألُ اللهَ الجنّة وأعوذ بِهِ مِن النّار</td>\n",
       "      <td>أسألُ اللهَ الجنّة وأعوذ بِهِ مِن النّار</td>\n",
       "    </tr>\n",
       "    <tr>\n",
       "      <th>2</th>\n",
       "      <td>ما هو الإحسان في العبادة؟</td>\n",
       "      <td>الإحسانُ أَنْ تعبُدَ اللهَ كأنّك تراه فإن لَم...</td>\n",
       "      <td>أَنْ تعبُدَ اللهَ كأنّك تراه فإن لَمْ تكن تراه...</td>\n",
       "    </tr>\n",
       "    <tr>\n",
       "      <th>3</th>\n",
       "      <td>ما معنى لا إله إلا الله؟</td>\n",
       "      <td>من قَالَ لآ إله إِلاَّ الله وكَفَرَ بِمَا يُع...</td>\n",
       "      <td>من قَالَ لآ إله إِلاَّ الله وكَفَرَ بِمَا يُع...</td>\n",
       "    </tr>\n",
       "    <tr>\n",
       "      <th>4</th>\n",
       "      <td>ما هو التوحيد في صفات الله؟</td>\n",
       "      <td>ينزِلُ ربُّنا تبارك وتعالى فِي كلّ ليلةٍ إِلَى...</td>\n",
       "      <td>ينزِلُ ربُّنا تبارك وتعالى فِي كلّ ليلةٍ إِلَى...</td>\n",
       "    </tr>\n",
       "  </tbody>\n",
       "</table>\n",
       "</div>"
      ],
      "text/plain": [
       "                      question  \\\n",
       "0               كيف نعبد الله؟   \n",
       "1     هل نعبد الله خوفا وطمعا؟   \n",
       "2    ما هو الإحسان في العبادة؟   \n",
       "3     ما معنى لا إله إلا الله؟   \n",
       "4  ما هو التوحيد في صفات الله؟   \n",
       "\n",
       "                                             context  \\\n",
       "0   مَن عمِلَ عمَلاً لَيْسَ عَلَيهِ أمْرُنا فَهُو...   \n",
       "1           أسألُ اللهَ الجنّة وأعوذ بِهِ مِن النّار   \n",
       "2   الإحسانُ أَنْ تعبُدَ اللهَ كأنّك تراه فإن لَم...   \n",
       "3   من قَالَ لآ إله إِلاَّ الله وكَفَرَ بِمَا يُع...   \n",
       "4  ينزِلُ ربُّنا تبارك وتعالى فِي كلّ ليلةٍ إِلَى...   \n",
       "\n",
       "                                             answers  \n",
       "0   مَن عمِلَ عمَلاً لَيْسَ عَلَيهِ أمْرُنا فَهُو...  \n",
       "1           أسألُ اللهَ الجنّة وأعوذ بِهِ مِن النّار  \n",
       "2  أَنْ تعبُدَ اللهَ كأنّك تراه فإن لَمْ تكن تراه...  \n",
       "3   من قَالَ لآ إله إِلاَّ الله وكَفَرَ بِمَا يُع...  \n",
       "4  ينزِلُ ربُّنا تبارك وتعالى فِي كلّ ليلةٍ إِلَى...  "
      ]
     },
     "execution_count": 12,
     "metadata": {},
     "output_type": "execute_result"
    }
   ],
   "source": [
    "df = pd.read_excel(\"E:\\ComputerScience\\GP_project\\HAQA.xlsx\")\n",
    "df = df.drop(columns=['Unnamed: 3','Unnamed: 4','Unnamed: 5'])\n",
    "df.rename(columns={'Question_Text': 'question','Hadith_Matn': 'context','Answer-Instances ':'answers'}, inplace=True)\n",
    "df.head()"
   ]
  },
  {
   "cell_type": "code",
   "execution_count": 13,
   "metadata": {},
   "outputs": [
    {
     "data": {
      "text/plain": [
       "1595"
      ]
     },
     "execution_count": 13,
     "metadata": {},
     "output_type": "execute_result"
    }
   ],
   "source": [
    "len(df)"
   ]
  },
  {
   "cell_type": "code",
   "execution_count": 14,
   "metadata": {},
   "outputs": [],
   "source": [
    "df['question'] = df['question'].apply(lambda x: strip_tashkeel(x))\n",
    "df['context'] = df['context'].apply(lambda x: strip_tashkeel(x))\n",
    "df['answers'] = df['answers'].apply(lambda x: strip_tashkeel(x))"
   ]
  },
  {
   "cell_type": "code",
   "execution_count": 15,
   "metadata": {},
   "outputs": [],
   "source": [
    "def clean_text(text):\n",
    "    text = re.sub(r'<[^>]*>', '', text)\n",
    "    text = re.sub(r'[^\\w\\s]', '', text)\n",
    "    text = re.sub(r'\\s+', ' ', text)\n",
    "    return text.strip()"
   ]
  },
  {
   "cell_type": "code",
   "execution_count": 16,
   "metadata": {},
   "outputs": [
    {
     "name": "stderr",
     "output_type": "stream",
     "text": [
      "C:\\Users\\DELL-MCC\\AppData\\Local\\Temp\\ipykernel_8424\\3417558923.py:1: FutureWarning: DataFrame.applymap has been deprecated. Use DataFrame.map instead.\n",
      "  df[['question', 'context', 'answers']] = df[['question', 'context', 'answers']].applymap(clean_text)\n"
     ]
    }
   ],
   "source": [
    "df[['question', 'context', 'answers']] = df[['question', 'context', 'answers']].applymap(clean_text)"
   ]
  },
  {
   "cell_type": "code",
   "execution_count": 17,
   "metadata": {},
   "outputs": [
    {
     "data": {
      "text/plain": [
       "1595"
      ]
     },
     "execution_count": 17,
     "metadata": {},
     "output_type": "execute_result"
    }
   ],
   "source": [
    "df.drop_duplicates(subset=['question', 'context'], keep='first', inplace=True)\n",
    "len(df)"
   ]
  },
  {
   "cell_type": "code",
   "execution_count": 18,
   "metadata": {},
   "outputs": [
    {
     "name": "stdout",
     "output_type": "stream",
     "text": [
      "Indices of rows without answers: [219]\n"
     ]
    }
   ],
   "source": [
    "indices_without_answers = []\n",
    "\n",
    "for index, row in df.iterrows():\n",
    "    if not row['answers']:\n",
    "        indices_without_answers.append(index)\n",
    "\n",
    "# Print the indices of rows without answers\n",
    "print(\"Indices of rows without answers:\", indices_without_answers)\n",
    "df_cleaned = df.drop(indices_without_answers ,inplace=True)"
   ]
  },
  {
   "cell_type": "code",
   "execution_count": 19,
   "metadata": {},
   "outputs": [
    {
     "data": {
      "text/plain": [
       "1594"
      ]
     },
     "execution_count": 19,
     "metadata": {},
     "output_type": "execute_result"
    }
   ],
   "source": [
    "len(df)"
   ]
  },
  {
   "cell_type": "code",
   "execution_count": 20,
   "metadata": {},
   "outputs": [],
   "source": [
    "def find_answer_start(row):\n",
    "    answer = row['answers']\n",
    "    context = row['context']\n",
    "    answer_start = context.find(answer)\n",
    "    return answer_start"
   ]
  },
  {
   "cell_type": "code",
   "execution_count": 21,
   "metadata": {},
   "outputs": [],
   "source": [
    "def preprocess_df(df):\n",
    "    df['answers'] = df.apply(lambda row: {'answer_start': [find_answer_start(row)], 'text': [row['answers']]}, axis=1)\n",
    "    cols = list(df.columns)\n",
    "    cols = [cols[-1]] + cols[:-1]\n",
    "    df = df[cols]\n",
    "    return df"
   ]
  },
  {
   "cell_type": "code",
   "execution_count": 22,
   "metadata": {},
   "outputs": [],
   "source": [
    "df = preprocess_df(df)"
   ]
  },
  {
   "cell_type": "code",
   "execution_count": 23,
   "metadata": {},
   "outputs": [],
   "source": [
    "first_column = df.pop('answers')  # Remove the first column and store it\n",
    "df['answers'] = first_column "
   ]
  },
  {
   "cell_type": "code",
   "execution_count": 24,
   "metadata": {},
   "outputs": [
    {
     "data": {
      "text/html": [
       "<div>\n",
       "<style scoped>\n",
       "    .dataframe tbody tr th:only-of-type {\n",
       "        vertical-align: middle;\n",
       "    }\n",
       "\n",
       "    .dataframe tbody tr th {\n",
       "        vertical-align: top;\n",
       "    }\n",
       "\n",
       "    .dataframe thead th {\n",
       "        text-align: right;\n",
       "    }\n",
       "</style>\n",
       "<table border=\"1\" class=\"dataframe\">\n",
       "  <thead>\n",
       "    <tr style=\"text-align: right;\">\n",
       "      <th></th>\n",
       "      <th>question</th>\n",
       "      <th>context</th>\n",
       "      <th>answers</th>\n",
       "    </tr>\n",
       "  </thead>\n",
       "  <tbody>\n",
       "    <tr>\n",
       "      <th>0</th>\n",
       "      <td>كيف نعبد الله</td>\n",
       "      <td>من عمل عملا ليس عليه أمرنا فهو رد</td>\n",
       "      <td>{'answer_start': [0], 'text': ['من عمل عملا لي...</td>\n",
       "    </tr>\n",
       "    <tr>\n",
       "      <th>1</th>\n",
       "      <td>هل نعبد الله خوفا وطمعا</td>\n",
       "      <td>أسأل الله الجنة وأعوذ به من النار</td>\n",
       "      <td>{'answer_start': [0], 'text': ['أسأل الله الجن...</td>\n",
       "    </tr>\n",
       "    <tr>\n",
       "      <th>2</th>\n",
       "      <td>ما هو الإحسان في العبادة</td>\n",
       "      <td>الإحسان أن تعبد الله كأنك تراه فإن لم تكن تراه...</td>\n",
       "      <td>{'answer_start': [8], 'text': ['أن تعبد الله ك...</td>\n",
       "    </tr>\n",
       "    <tr>\n",
       "      <th>3</th>\n",
       "      <td>ما معنى لا إله إلا الله</td>\n",
       "      <td>من قال لآ إله إلا الله وكفر بما يعبد من دون ال...</td>\n",
       "      <td>{'answer_start': [0], 'text': ['من قال لآ إله ...</td>\n",
       "    </tr>\n",
       "    <tr>\n",
       "      <th>4</th>\n",
       "      <td>ما هو التوحيد في صفات الله</td>\n",
       "      <td>ينزل ربنا تبارك وتعالى في كل ليلة إلى السماء ا...</td>\n",
       "      <td>{'answer_start': [0], 'text': ['ينزل ربنا تبار...</td>\n",
       "    </tr>\n",
       "  </tbody>\n",
       "</table>\n",
       "</div>"
      ],
      "text/plain": [
       "                     question  \\\n",
       "0               كيف نعبد الله   \n",
       "1     هل نعبد الله خوفا وطمعا   \n",
       "2    ما هو الإحسان في العبادة   \n",
       "3     ما معنى لا إله إلا الله   \n",
       "4  ما هو التوحيد في صفات الله   \n",
       "\n",
       "                                             context  \\\n",
       "0                  من عمل عملا ليس عليه أمرنا فهو رد   \n",
       "1                  أسأل الله الجنة وأعوذ به من النار   \n",
       "2  الإحسان أن تعبد الله كأنك تراه فإن لم تكن تراه...   \n",
       "3  من قال لآ إله إلا الله وكفر بما يعبد من دون ال...   \n",
       "4  ينزل ربنا تبارك وتعالى في كل ليلة إلى السماء ا...   \n",
       "\n",
       "                                             answers  \n",
       "0  {'answer_start': [0], 'text': ['من عمل عملا لي...  \n",
       "1  {'answer_start': [0], 'text': ['أسأل الله الجن...  \n",
       "2  {'answer_start': [8], 'text': ['أن تعبد الله ك...  \n",
       "3  {'answer_start': [0], 'text': ['من قال لآ إله ...  \n",
       "4  {'answer_start': [0], 'text': ['ينزل ربنا تبار...  "
      ]
     },
     "execution_count": 24,
     "metadata": {},
     "output_type": "execute_result"
    }
   ],
   "source": [
    "df.head()"
   ]
  },
  {
   "cell_type": "code",
   "execution_count": 25,
   "metadata": {},
   "outputs": [],
   "source": [
    "context_lengths = [len(example[\"context\"]) for i,example in df.iterrows()]\n",
    "question_lengths = [len(example[\"question\"]) for i,example in df.iterrows()]"
   ]
  },
  {
   "cell_type": "code",
   "execution_count": 28,
   "metadata": {},
   "outputs": [
    {
     "data": {
      "image/png": "[encoded data removed]",
      "text/plain": [
       "<Figure size 640x480 with 1 Axes>"
      ]
     },
     "metadata": {},
     "output_type": "display_data"
    }
   ],
   "source": [
    "plt.hist(context_lengths, bins=50, color='red', alpha=0.7, label='Context')\n",
    "plt.xlabel('Context Length')\n",
    "plt.ylabel('Frequency')\n",
    "plt.legend()\n",
    "plt.title('Distribution of Context Lengths')\n",
    "plt.show()"
   ]
  },
  {
   "cell_type": "code",
   "execution_count": 29,
   "metadata": {},
   "outputs": [
    {
     "data": {
      "image/png": "[encoded data removed]",
      "text/plain": [
       "<Figure size 640x480 with 1 Axes>"
      ]
     },
     "metadata": {},
     "output_type": "display_data"
    }
   ],
   "source": [
    "plt.hist(question_lengths, bins=50, color='green', alpha=0.7, label='Question')\n",
    "plt.xlabel('Question Length')\n",
    "plt.ylabel('Frequency')\n",
    "plt.legend()\n",
    "plt.title('Distribution of Question Lengths')\n",
    "plt.show()"
   ]
  },
  {
   "cell_type": "code",
   "execution_count": 30,
   "metadata": {},
   "outputs": [
    {
     "name": "stdout",
     "output_type": "stream",
     "text": [
      "Max Context Length: 7777\n",
      "Max Question Length: 126\n"
     ]
    }
   ],
   "source": [
    "max_context_length = max(context_lengths)\n",
    "max_question_length = max(question_lengths)\n",
    "\n",
    "print(f\"Max Context Length: {max_context_length}\")\n",
    "print(f\"Max Question Length: {max_question_length}\")"
   ]
  },
  {
   "cell_type": "code",
   "execution_count": 31,
   "metadata": {},
   "outputs": [],
   "source": [
    "df.insert(0, 'id', range(1, len(df) + 1))"
   ]
  },
  {
   "cell_type": "code",
   "execution_count": 32,
   "metadata": {},
   "outputs": [
    {
     "data": {
      "text/html": [
       "<div>\n",
       "<style scoped>\n",
       "    .dataframe tbody tr th:only-of-type {\n",
       "        vertical-align: middle;\n",
       "    }\n",
       "\n",
       "    .dataframe tbody tr th {\n",
       "        vertical-align: top;\n",
       "    }\n",
       "\n",
       "    .dataframe thead th {\n",
       "        text-align: right;\n",
       "    }\n",
       "</style>\n",
       "<table border=\"1\" class=\"dataframe\">\n",
       "  <thead>\n",
       "    <tr style=\"text-align: right;\">\n",
       "      <th></th>\n",
       "      <th>id</th>\n",
       "      <th>question</th>\n",
       "      <th>context</th>\n",
       "      <th>answers</th>\n",
       "    </tr>\n",
       "  </thead>\n",
       "  <tbody>\n",
       "    <tr>\n",
       "      <th>0</th>\n",
       "      <td>1</td>\n",
       "      <td>كيف نعبد الله</td>\n",
       "      <td>من عمل عملا ليس عليه أمرنا فهو رد</td>\n",
       "      <td>{'answer_start': [0], 'text': ['من عمل عملا لي...</td>\n",
       "    </tr>\n",
       "    <tr>\n",
       "      <th>1</th>\n",
       "      <td>2</td>\n",
       "      <td>هل نعبد الله خوفا وطمعا</td>\n",
       "      <td>أسأل الله الجنة وأعوذ به من النار</td>\n",
       "      <td>{'answer_start': [0], 'text': ['أسأل الله الجن...</td>\n",
       "    </tr>\n",
       "    <tr>\n",
       "      <th>2</th>\n",
       "      <td>3</td>\n",
       "      <td>ما هو الإحسان في العبادة</td>\n",
       "      <td>الإحسان أن تعبد الله كأنك تراه فإن لم تكن تراه...</td>\n",
       "      <td>{'answer_start': [8], 'text': ['أن تعبد الله ك...</td>\n",
       "    </tr>\n",
       "    <tr>\n",
       "      <th>3</th>\n",
       "      <td>4</td>\n",
       "      <td>ما معنى لا إله إلا الله</td>\n",
       "      <td>من قال لآ إله إلا الله وكفر بما يعبد من دون ال...</td>\n",
       "      <td>{'answer_start': [0], 'text': ['من قال لآ إله ...</td>\n",
       "    </tr>\n",
       "    <tr>\n",
       "      <th>4</th>\n",
       "      <td>5</td>\n",
       "      <td>ما هو التوحيد في صفات الله</td>\n",
       "      <td>ينزل ربنا تبارك وتعالى في كل ليلة إلى السماء ا...</td>\n",
       "      <td>{'answer_start': [0], 'text': ['ينزل ربنا تبار...</td>\n",
       "    </tr>\n",
       "  </tbody>\n",
       "</table>\n",
       "</div>"
      ],
      "text/plain": [
       "   id                    question  \\\n",
       "0   1               كيف نعبد الله   \n",
       "1   2     هل نعبد الله خوفا وطمعا   \n",
       "2   3    ما هو الإحسان في العبادة   \n",
       "3   4     ما معنى لا إله إلا الله   \n",
       "4   5  ما هو التوحيد في صفات الله   \n",
       "\n",
       "                                             context  \\\n",
       "0                  من عمل عملا ليس عليه أمرنا فهو رد   \n",
       "1                  أسأل الله الجنة وأعوذ به من النار   \n",
       "2  الإحسان أن تعبد الله كأنك تراه فإن لم تكن تراه...   \n",
       "3  من قال لآ إله إلا الله وكفر بما يعبد من دون ال...   \n",
       "4  ينزل ربنا تبارك وتعالى في كل ليلة إلى السماء ا...   \n",
       "\n",
       "                                             answers  \n",
       "0  {'answer_start': [0], 'text': ['من عمل عملا لي...  \n",
       "1  {'answer_start': [0], 'text': ['أسأل الله الجن...  \n",
       "2  {'answer_start': [8], 'text': ['أن تعبد الله ك...  \n",
       "3  {'answer_start': [0], 'text': ['من قال لآ إله ...  \n",
       "4  {'answer_start': [0], 'text': ['ينزل ربنا تبار...  "
      ]
     },
     "execution_count": 32,
     "metadata": {},
     "output_type": "execute_result"
    }
   ],
   "source": [
    "df.head()"
   ]
  },
  {
   "cell_type": "code",
   "execution_count": 33,
   "metadata": {},
   "outputs": [],
   "source": [
    "df.to_csv('preprocessed_data.csv', index=False) "
   ]
  },
  {
   "cell_type": "code",
   "execution_count": null,
   "metadata": {},
   "outputs": [],
   "source": []
  }
 ],
 "metadata": {
  "kernelspec": {
   "display_name": "rag",
   "language": "python",
   "name": "python3"
  },
  "language_info": {
   "codemirror_mode": {
    "name": "ipython",
    "version": 3
   },
   "file_extension": ".py",
   "mimetype": "text/x-python",
   "name": "python",
   "nbconvert_exporter": "python",
   "pygments_lexer": "ipython3",
   "version": "3.10.9"
  }
 },
 "nbformat": 4,
 "nbformat_minor": 2
}
